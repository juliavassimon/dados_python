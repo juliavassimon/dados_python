{
  "nbformat": 4,
  "nbformat_minor": 0,
  "metadata": {
    "colab": {
      "provenance": [],
      "authorship_tag": "ABX9TyMq7I4Q9mVu+lwovWqWwF/Y",
      "include_colab_link": true
    },
    "kernelspec": {
      "name": "python3",
      "display_name": "Python 3"
    },
    "language_info": {
      "name": "python"
    }
  },
  "cells": [
    {
      "cell_type": "markdown",
      "metadata": {
        "id": "view-in-github",
        "colab_type": "text"
      },
      "source": [
        "<a href=\"https://colab.research.google.com/github/juliavassimon/dados_python/blob/main/pandasII.ipynb\" target=\"_parent\"><img src=\"https://colab.research.google.com/assets/colab-badge.svg\" alt=\"Open In Colab\"/></a>"
      ]
    },
    {
      "cell_type": "code",
      "execution_count": null,
      "metadata": {
        "colab": {
          "base_uri": "https://localhost:8080/"
        },
        "id": "Dl6iVmgAZMVn",
        "outputId": "3c0c43fb-e33f-4dc7-fc4a-51f99a5fde2e"
      },
      "outputs": [
        {
          "output_type": "stream",
          "name": "stdout",
          "text": [
            "Media: 16.1\n",
            "Mediana: 15.5\n",
            "Moda: 0    15\n",
            "Name: Valores, dtype: int64\n",
            "Desvio Padrão: 2.4244128727957572\n"
          ]
        }
      ],
      "source": [
        "#desvio padrao é usado para avaliar plagio\n",
        "#ex01\n",
        "import pandas as pd\n",
        "dados = pd.DataFrame({'Valores':[15,15,12,18,20,14,15,17,16,19]})\n",
        "media = dados['Valores'].mean()\n",
        "print(f'Media: {media}')\n",
        "mediana = dados['Valores'].median()\n",
        "print(f'Mediana: {mediana}')\n",
        "moda = dados['Valores'].mode()\n",
        "print(f'Moda: {moda}')\n",
        "desvio_padrao = dados['Valores'].std()\n",
        "print(f'Desvio Padrão: {desvio_padrao}')"
      ]
    },
    {
      "cell_type": "code",
      "source": [
        "#ex 02\n",
        "#limpeza de dados\n",
        "import pandas as pd\n",
        "df = pd.read_csv('https://raw.githubusercontent.com/juliavassimon/dados_python/main/base_de_dados.csv', sep =';')\n",
        "#mudar os nomes das colunas\n",
        "df.columns= ['id','data_aq','produto','quantidade','valor_un','valor_total','setor']\n",
        "#unificar (concertar os nomes das colunas)\n",
        "df['setor'] = df['setor'].str.lower()\n",
        "df['valor_un'] = df['valor_un'].str.strip(\"R$\")\n",
        "df['valor_total'] = df['valor_total'].str.strip(\"R$\")\n",
        "#tira a , para o .\n",
        "df['valor_un'] = df['valor_un'].str.replace(\",\", \".\")\n",
        "df['valor_total'] = df['valor_total'].str.replace(\",\",\".\")\n",
        "#consultar a coluna\n",
        "#df['valor_total'].value_counts()\n",
        "#converter de string para float\n",
        "df['valor_un'] = pd.to_numeric(df['valor_un'], errors = 'coerce')\n",
        "df['valor_total'] = pd.to_numeric(df['valor_total'], errors = 'coerce')\n",
        "#agora fazer a moda, media, mediana e desvio padrao\n",
        "#calcular a homonogea dos dados é desvio padrao\n",
        "media= df['valor_un'].mean()\n",
        "print(f'Media: {media}')\n",
        "mediana = df['valor_un'].median()\n",
        "print(f'Mediana: {mediana}')\n",
        "moda = df['valor_un'].mode()\n",
        "print(f'Moda: {moda}')\n",
        "desvio_padrao = df['valor_un'].std()\n",
        "print(f'Desvio Padrão: {desvio_padrao}')\n",
        "media= df['valor_total'].mean()\n",
        "print(f'Media: {media}')\n",
        "mediana = df['valor_total'].median()\n",
        "print(f'Mediana: {mediana}')\n",
        "moda = df['valor_total'].mode()\n",
        "print(f'Moda: {moda}')\n",
        "desvio_padrao = df['valor_total'].std()\n",
        "print(f'Desvio Padrão: {desvio_padrao}')"
      ],
      "metadata": {
        "id": "197c74NzcXTi",
        "colab": {
          "base_uri": "https://localhost:8080/"
        },
        "outputId": "1e854aaf-ca96-40d8-b654-1403b214133c"
      },
      "execution_count": 20,
      "outputs": [
        {
          "output_type": "stream",
          "name": "stdout",
          "text": [
            "Media: 47.641129326047356\n",
            "Mediana: 35.0\n",
            "Moda: 0    12.99\n",
            "Name: valor_un, dtype: float64\n",
            "Desvio Padrão: 53.44122350325837\n",
            "Media: 279.124116575592\n",
            "Mediana: 143.12\n",
            "Moda: 0    103.92\n",
            "Name: valor_total, dtype: float64\n",
            "Desvio Padrão: 378.6244759602337\n"
          ]
        }
      ]
    }
  ]
}