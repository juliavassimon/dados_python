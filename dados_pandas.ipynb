{
  "nbformat": 4,
  "nbformat_minor": 0,
  "metadata": {
    "colab": {
      "provenance": [],
      "authorship_tag": "ABX9TyPM4XURrrBBpi1Y5sL01yHU",
      "include_colab_link": true
    },
    "kernelspec": {
      "name": "python3",
      "display_name": "Python 3"
    },
    "language_info": {
      "name": "python"
    }
  },
  "cells": [
    {
      "cell_type": "markdown",
      "metadata": {
        "id": "view-in-github",
        "colab_type": "text"
      },
      "source": [
        "<a href=\"https://colab.research.google.com/github/juliavassimon/dados_python/blob/main/dados_pandas.ipynb\" target=\"_parent\"><img src=\"https://colab.research.google.com/assets/colab-badge.svg\" alt=\"Open In Colab\"/></a>"
      ]
    },
    {
      "cell_type": "code",
      "execution_count": null,
      "metadata": {
        "id": "aw9_eYe8k_rr"
      },
      "outputs": [],
      "source": [
        "#ler os dados no formato de csv\n",
        "#ler dados do github\n",
        "import pandas as pd\n",
        "df = pd.read_csv('https://raw.githubusercontent.com/juliavassimon/dados_python/main/pandas')\n",
        "df"
      ]
    }
  ]
}